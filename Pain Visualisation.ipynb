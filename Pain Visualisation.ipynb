{
 "cells": [
  {
   "cell_type": "code",
   "execution_count": 1,
   "metadata": {},
   "outputs": [
    {
     "name": "stdout",
     "output_type": "stream",
     "text": [
      "# packages in environment at C:\\Users\\MIRA 3\\Anaconda3\\envs\\pain_detection:\n",
      "#\n",
      "# Name                    Version                   Build  Channel\n",
      "apptools                  4.4.0                    py27_0    menpo\n",
      "backcall                  0.1.0                    py27_0  \n",
      "backports                 1.0                      py27_1  \n",
      "backports.shutil_get_terminal_size 1.0.0                    py27_2  \n",
      "backports.shutil_which    3.5.2                    py27_0  \n",
      "backports_abc             0.5              py27h0ec6b72_0  \n",
      "blas                      1.0                         mkl  \n",
      "bleach                    3.1.0                    py27_0  \n",
      "boost                     1.59.0                   py27_0    menpo\n",
      "bzip2                     1.0.6                h0c8e037_5  \n",
      "ca-certificates           2018.12.5                     0  \n",
      "certifi                   2018.11.29               py27_0  \n",
      "colorama                  0.4.1                    py27_0  \n",
      "configobj                 5.0.6                    py27_1  \n",
      "configparser              3.5.0            py27h2fa79a8_0  \n",
      "cycler                    0.10.0           py27h59acbbf_0  \n",
      "cyffld2                   0.2.4                    py27_0    menpo\n",
      "cypico                    0.2.7                    py27_0    menpo\n",
      "cyrasterize               0.3.2                    py27_0    menpo\n",
      "cyvlfeat                  0.4.6                    py27_0    menpo\n",
      "decorator                 4.3.0                    py27_0  \n",
      "dlib                      18.18                    py27_2    menpo\n",
      "docopt                    0.6.2                    py27_0  \n",
      "entrypoints               0.3                      py27_0  \n",
      "enum34                    1.1.6                    py27_1  \n",
      "envisage                  4.5.1                    py27_0    menpo\n",
      "ffmpeg                    2.7.0                         0    menpo\n",
      "fftw                      3.3.4                         0    menpo\n",
      "freetype                  2.8                  hea645e0_1  \n",
      "funcsigs                  1.0.2            py27h8885ae1_0  \n",
      "functools32               3.2.3.2                  py27_1  \n",
      "futures                   3.2.0                    py27_0  \n",
      "get_terminal_size         1.0.0                h38e98db_0  \n",
      "glew                      2.0.0                     vc9_0  [vc9]  menpo\n",
      "glfw3                     3.2.1                     vc9_0  [vc9]  menpo\n",
      "hdf5                      1.10.4               h530792d_0  \n",
      "icc_rt                    2019.0.0             h0cc432a_1  \n",
      "iconv                     1.14                          0    menpo\n",
      "icu                       58.2                 h2aa20d9_1  \n",
      "intel-openmp              2019.1                      144  \n",
      "ipaddress                 1.0.22                   py27_0  \n",
      "ipykernel                 4.10.0                   py27_0  \n",
      "ipython                   4.2.0                    py27_0  \n",
      "ipython_genutils          0.2.0            py27hbe997df_0  \n",
      "ipywidgets                4.1.1                    py27_0  \n",
      "jedi                      0.13.2                   py27_0  \n",
      "jinja2                    2.10                     py27_0  \n",
      "jpeg                      9b                   ha175dff_2  \n",
      "jsonschema                2.6.0            py27haaf3834_0  \n",
      "jupyter                   1.0.0                    py27_7  \n",
      "jupyter_client            5.2.4                    py27_0  \n",
      "jupyter_console           5.2.0                    py27_1  \n",
      "jupyter_core              4.4.0                    py27_0  \n",
      "libpng                    1.6.36               h7a46e7a_0  \n",
      "libsodium                 1.0.16               h8b3e59e_0  \n",
      "libtiff                   4.0.10               h1c3b264_2  \n",
      "libxml2                   2.7.8                         0    menpo\n",
      "m2w64-gcc-libgfortran     5.3.0                         6  \n",
      "m2w64-gcc-libs            5.3.0                         7  \n",
      "m2w64-gcc-libs-core       5.3.0                         7  \n",
      "m2w64-gmp                 6.1.0                         2  \n",
      "m2w64-libwinpthread-git   5.0.0.4634.697f757               2  \n",
      "markupsafe                1.1.0            py27h0c8e037_0  \n",
      "matplotlib                1.5.3               np111py27_1  \n",
      "mayavi                    4.5.0                    py27_0    menpo\n",
      "menpo                     0.7.7                    py27_0    menpo\n",
      "menpo3d                   0.4.2                    py27_0    menpo\n",
      "menpocli                  0.0.2                    py27_0    menpo\n",
      "menpodetect               0.4.0                    py27_0    menpo\n",
      "menpofit                  0.4.1                    py27_0    menpo\n",
      "menpoproject              2.0                        py_0    menpo\n",
      "menpowidgets              0.2.1                    py27_0    menpo\n",
      "mistune                   0.8.4            py27h0c8e037_0  \n",
      "mkl                       2018.0.3                      1  \n",
      "mock                      2.0.0            py27hc978a8d_0  \n",
      "msys2-conda-epoch         20160418                      1  \n",
      "nbconvert                 5.3.1                    py27_0  \n",
      "nbformat                  4.4.0            py27hf49b375_0  \n",
      "nose                      1.3.7                    py27_2  \n",
      "notebook                  5.7.4                    py27_0  \n",
      "numpy                     1.11.3          py27hc42714f_10  \n",
      "numpy-base                1.11.3          py27h2753ae9_10  \n",
      "olefile                   0.46                     py27_0  \n",
      "opencv3                   3.1.0                    py27_0    menpo\n",
      "openssl                   1.0.2p               h0c8e037_0  \n",
      "pandas                    0.23.4           py27h39f3610_0  \n",
      "pandoc                    2.2.3.2                       0  \n",
      "pandocfilters             1.4.2                    py27_1  \n",
      "parso                     0.3.1                    py27_0  \n",
      "pathlib                   1.0                      py27_1    menpo\n",
      "pathlib2                  2.3.3                    py27_0  \n",
      "pbr                       5.1.1                    py27_0  \n",
      "pickleshare               0.7.5                    py27_0  \n",
      "pillow                    4.2.1            py27hbae4915_0  \n",
      "pip                       18.1                     py27_0  \n",
      "prometheus_client         0.5.0                    py27_0  \n",
      "prompt_toolkit            2.0.7                    py27_0  \n",
      "pyface                    5.1.0                    py27_0    menpo\n",
      "pygments                  2.3.1                    py27_0  \n",
      "pyparsing                 2.3.1                    py27_0  \n",
      "pyqt                      5.6.0            py27h6e61f57_6  \n",
      "pyreadline                2.1                      py27_1  \n",
      "python                    2.7.15               hcb6e200_5  \n",
      "python-dateutil           2.7.5                    py27_0  \n",
      "pytz                      2018.9                   py27_0  \n",
      "pywinpty                  0.5.5                 py27_1000  \n",
      "pyzmq                     17.1.2           py27hc56fc5f_2  \n",
      "qt                        5.6.2            vc9hc26998b_12  \n",
      "qtconsole                 4.4.3                    py27_0  \n",
      "scandir                   1.9.0            py27h0c8e037_0  \n",
      "scikit-learn              0.20.1           py27hc804a74_0  \n",
      "scipy                     0.19.1           py27h069396b_3  \n",
      "send2trash                1.5.0                    py27_0  \n",
      "setuptools                40.6.3                   py27_0  \n",
      "simplegeneric             0.8.1                    py27_2  \n",
      "singledispatch            3.4.0.3          py27h3f9d112_0  \n",
      "sip                       4.18.1           py27hc56fc5f_2  \n",
      "six                       1.12.0                   py27_0  \n",
      "sqlite                    3.26.0               h0c8e037_0  \n",
      "terminado                 0.8.1                    py27_1  \n",
      "testpath                  0.4.2                    py27_0  \n",
      "tk                        8.5.18                    vc9_0  \n",
      "tornado                   5.1.1            py27h0c8e037_0  \n",
      "traitlets                 4.3.2            py27h1b1b3a5_0  \n",
      "traits                    4.5.0                    py27_0    menpo\n",
      "traitsui                  5.1.0                    py27_0    menpo\n",
      "vc                        9                    h7299396_1  \n",
      "vcomp                     1.0                       vc9_0  [vc9]  menpo\n",
      "vlfeat                    0.9.20                    vc9_1  [vc9]  menpo\n",
      "vs2008_runtime            9.00.30729.1         hfaea7d5_1  \n",
      "vs2015_runtime            14.15.26706          h3a45250_0  \n",
      "vtk                       7.0.0                    py27_0    menpo\n",
      "wcwidth                   0.1.7            py27hb1a0d82_0  \n",
      "webencodings              0.5.1                    py27_1  \n",
      "wheel                     0.32.3                   py27_0  \n",
      "wincertstore              0.2              py27hf04cefb_0  \n",
      "winpty                    0.4.3                         4  \n",
      "xz                        5.2.4                h3cc03e0_4  \n",
      "zeromq                    4.3.1                h2880e7c_3  \n",
      "zlib                      1.2.11               h3cc03e0_3  \n",
      "zstd                      1.3.7                h1b0e4d7_0  \n"
     ]
    }
   ],
   "source": [
    "import sys\n",
    "!conda list --prefix \"{sys.prefix}\""
   ]
  },
  {
   "cell_type": "code",
   "execution_count": 2,
   "metadata": {},
   "outputs": [],
   "source": [
    "import matplotlib.pyplot as plt\n",
    "%matplotlib inline\n",
    "import menpo.io as mio"
   ]
  },
  {
   "cell_type": "code",
   "execution_count": 3,
   "metadata": {},
   "outputs": [
    {
     "data": {
      "text/plain": [
       "<menpo.visualize.viewmatplotlib.MatplotlibImageViewer2d at 0x85e79b0>"
      ]
     },
     "execution_count": 3,
     "metadata": {},
     "output_type": "execute_result"
    },
    {
     "ename": "AttributeError",
     "evalue": "'module' object has no attribute 'to_rgba'",
     "output_type": "error",
     "traceback": [
      "\u001b[1;31m---------------------------------------------------------------------------\u001b[0m",
      "\u001b[1;31mAttributeError\u001b[0m                            Traceback (most recent call last)",
      "\u001b[1;32mC:\\Users\\MIRA 3\\Anaconda3\\envs\\pain_detection\\lib\\site-packages\\ipykernel\\pylab\\backend_inline.pyc\u001b[0m in \u001b[0;36mshow\u001b[1;34m(close, block)\u001b[0m\n\u001b[0;32m     37\u001b[0m             display(\n\u001b[0;32m     38\u001b[0m                 \u001b[0mfigure_manager\u001b[0m\u001b[1;33m.\u001b[0m\u001b[0mcanvas\u001b[0m\u001b[1;33m.\u001b[0m\u001b[0mfigure\u001b[0m\u001b[1;33m,\u001b[0m\u001b[1;33m\u001b[0m\u001b[0m\n\u001b[1;32m---> 39\u001b[1;33m                 \u001b[0mmetadata\u001b[0m\u001b[1;33m=\u001b[0m\u001b[0m_fetch_figure_metadata\u001b[0m\u001b[1;33m(\u001b[0m\u001b[0mfigure_manager\u001b[0m\u001b[1;33m.\u001b[0m\u001b[0mcanvas\u001b[0m\u001b[1;33m.\u001b[0m\u001b[0mfigure\u001b[0m\u001b[1;33m)\u001b[0m\u001b[1;33m\u001b[0m\u001b[0m\n\u001b[0m\u001b[0;32m     40\u001b[0m             )\n\u001b[0;32m     41\u001b[0m     \u001b[1;32mfinally\u001b[0m\u001b[1;33m:\u001b[0m\u001b[1;33m\u001b[0m\u001b[0m\n",
      "\u001b[1;32mC:\\Users\\MIRA 3\\Anaconda3\\envs\\pain_detection\\lib\\site-packages\\ipykernel\\pylab\\backend_inline.pyc\u001b[0m in \u001b[0;36m_fetch_figure_metadata\u001b[1;34m(fig)\u001b[0m\n\u001b[0;32m    172\u001b[0m     \u001b[1;34m\"\"\"Get some metadata to help with displaying a figure.\"\"\"\u001b[0m\u001b[1;33m\u001b[0m\u001b[0m\n\u001b[0;32m    173\u001b[0m     \u001b[1;31m# determine if a background is needed for legibility\u001b[0m\u001b[1;33m\u001b[0m\u001b[1;33m\u001b[0m\u001b[0m\n\u001b[1;32m--> 174\u001b[1;33m     \u001b[1;32mif\u001b[0m \u001b[0m_is_transparent\u001b[0m\u001b[1;33m(\u001b[0m\u001b[0mfig\u001b[0m\u001b[1;33m.\u001b[0m\u001b[0mget_facecolor\u001b[0m\u001b[1;33m(\u001b[0m\u001b[1;33m)\u001b[0m\u001b[1;33m)\u001b[0m\u001b[1;33m:\u001b[0m\u001b[1;33m\u001b[0m\u001b[0m\n\u001b[0m\u001b[0;32m    175\u001b[0m         \u001b[1;31m# the background is transparent\u001b[0m\u001b[1;33m\u001b[0m\u001b[1;33m\u001b[0m\u001b[0m\n\u001b[0;32m    176\u001b[0m         ticksLight = _is_light([label.get_color()\n",
      "\u001b[1;32mC:\\Users\\MIRA 3\\Anaconda3\\envs\\pain_detection\\lib\\site-packages\\ipykernel\\pylab\\backend_inline.pyc\u001b[0m in \u001b[0;36m_is_transparent\u001b[1;34m(color)\u001b[0m\n\u001b[0;32m    193\u001b[0m \u001b[1;32mdef\u001b[0m \u001b[0m_is_transparent\u001b[0m\u001b[1;33m(\u001b[0m\u001b[0mcolor\u001b[0m\u001b[1;33m)\u001b[0m\u001b[1;33m:\u001b[0m\u001b[1;33m\u001b[0m\u001b[0m\n\u001b[0;32m    194\u001b[0m     \u001b[1;34m\"\"\"Determine transparency from alpha.\"\"\"\u001b[0m\u001b[1;33m\u001b[0m\u001b[0m\n\u001b[1;32m--> 195\u001b[1;33m     \u001b[0mrgba\u001b[0m \u001b[1;33m=\u001b[0m \u001b[0mcolors\u001b[0m\u001b[1;33m.\u001b[0m\u001b[0mto_rgba\u001b[0m\u001b[1;33m(\u001b[0m\u001b[0mcolor\u001b[0m\u001b[1;33m)\u001b[0m\u001b[1;33m\u001b[0m\u001b[0m\n\u001b[0m\u001b[0;32m    196\u001b[0m     \u001b[1;32mreturn\u001b[0m \u001b[0mrgba\u001b[0m\u001b[1;33m[\u001b[0m\u001b[1;36m3\u001b[0m\u001b[1;33m]\u001b[0m \u001b[1;33m<\u001b[0m \u001b[1;36m.5\u001b[0m\u001b[1;33m\u001b[0m\u001b[0m\n",
      "\u001b[1;31mAttributeError\u001b[0m: 'module' object has no attribute 'to_rgba'"
     ]
    }
   ],
   "source": [
    "image = mio.import_builtin_asset.lenna_png()\n",
    "image.view()"
   ]
  },
  {
   "cell_type": "code",
   "execution_count": 4,
   "metadata": {},
   "outputs": [
    {
     "ename": "AttributeError",
     "evalue": "'module' object has no attribute 'to_rgba'",
     "output_type": "error",
     "traceback": [
      "\u001b[1;31m---------------------------------------------------------------------------\u001b[0m",
      "\u001b[1;31mAttributeError\u001b[0m                            Traceback (most recent call last)",
      "\u001b[1;32m<ipython-input-4-444252c07ca8>\u001b[0m in \u001b[0;36m<module>\u001b[1;34m()\u001b[0m\n\u001b[1;32m----> 1\u001b[1;33m \u001b[0mimage\u001b[0m\u001b[1;33m.\u001b[0m\u001b[0mview_widget\u001b[0m\u001b[1;33m(\u001b[0m\u001b[1;33m)\u001b[0m\u001b[1;33m\u001b[0m\u001b[0m\n\u001b[0m",
      "\u001b[1;32mC:\\Users\\MIRA 3\\Anaconda3\\envs\\pain_detection\\lib\\site-packages\\menpo\\image\\base.pyc\u001b[0m in \u001b[0;36mview_widget\u001b[1;34m(self, browser_style, figure_size, style)\u001b[0m\n\u001b[0;32m    857\u001b[0m             \u001b[1;32mfrom\u001b[0m \u001b[0mmenpowidgets\u001b[0m \u001b[1;32mimport\u001b[0m \u001b[0mvisualize_images\u001b[0m\u001b[1;33m\u001b[0m\u001b[0m\n\u001b[0;32m    858\u001b[0m             visualize_images(self, figure_size=figure_size, style=style,\n\u001b[1;32m--> 859\u001b[1;33m                              browser_style=browser_style)\n\u001b[0m\u001b[0;32m    860\u001b[0m         \u001b[1;32mexcept\u001b[0m \u001b[0mImportError\u001b[0m\u001b[1;33m:\u001b[0m\u001b[1;33m\u001b[0m\u001b[0m\n\u001b[0;32m    861\u001b[0m             \u001b[1;32mfrom\u001b[0m \u001b[0mmenpo\u001b[0m\u001b[1;33m.\u001b[0m\u001b[0mvisualize\u001b[0m\u001b[1;33m.\u001b[0m\u001b[0mbase\u001b[0m \u001b[1;32mimport\u001b[0m \u001b[0mMenpowidgetsMissingError\u001b[0m\u001b[1;33m\u001b[0m\u001b[0m\n",
      "\u001b[1;32mC:\\Users\\MIRA 3\\Anaconda3\\envs\\pain_detection\\lib\\site-packages\\menpowidgets\\base.pyc\u001b[0m in \u001b[0;36mvisualize_images\u001b[1;34m(images, figure_size, style, browser_style, custom_info_callback)\u001b[0m\n\u001b[0;32m    907\u001b[0m \u001b[1;33m\u001b[0m\u001b[0m\n\u001b[0;32m    908\u001b[0m     \u001b[1;31m# Trigger initial visualization\u001b[0m\u001b[1;33m\u001b[0m\u001b[1;33m\u001b[0m\u001b[0m\n\u001b[1;32m--> 909\u001b[1;33m     \u001b[0mrender_function\u001b[0m\u001b[1;33m(\u001b[0m\u001b[1;33m{\u001b[0m\u001b[1;33m}\u001b[0m\u001b[1;33m)\u001b[0m\u001b[1;33m\u001b[0m\u001b[0m\n\u001b[0m\u001b[0;32m    910\u001b[0m \u001b[1;33m\u001b[0m\u001b[0m\n\u001b[0;32m    911\u001b[0m \u001b[1;33m\u001b[0m\u001b[0m\n",
      "\u001b[1;32mC:\\Users\\MIRA 3\\Anaconda3\\envs\\pain_detection\\lib\\site-packages\\menpowidgets\\base.pyc\u001b[0m in \u001b[0;36mrender_function\u001b[1;34m(change)\u001b[0m\n\u001b[0;32m    793\u001b[0m             \u001b[0mmarker_edge_colour\u001b[0m\u001b[1;33m=\u001b[0m\u001b[0mmarker_edge_colour\u001b[0m\u001b[1;33m,\u001b[0m\u001b[1;33m\u001b[0m\u001b[0m\n\u001b[0;32m    794\u001b[0m             \u001b[0mmarker_face_colour\u001b[0m\u001b[1;33m=\u001b[0m\u001b[0mmarker_face_colour\u001b[0m\u001b[1;33m,\u001b[0m\u001b[1;33m\u001b[0m\u001b[0m\n\u001b[1;32m--> 795\u001b[1;33m             figure_size=new_figure_size, **options)\n\u001b[0m\u001b[0;32m    796\u001b[0m \u001b[1;33m\u001b[0m\u001b[0m\n\u001b[0;32m    797\u001b[0m         \u001b[1;31m# Update info\u001b[0m\u001b[1;33m\u001b[0m\u001b[1;33m\u001b[0m\u001b[0m\n",
      "\u001b[1;32mC:\\Users\\MIRA 3\\Anaconda3\\envs\\pain_detection\\lib\\site-packages\\menpowidgets\\utils.pyc\u001b[0m in \u001b[0;36mrender_image\u001b[1;34m(image, renderer, render_landmarks, image_is_masked, masked_enabled, channels, glyph_enabled, glyph_block_size, glyph_use_negative, sum_enabled, group, with_labels, render_lines, line_style, line_width, line_colour, render_markers, marker_style, marker_size, marker_edge_width, marker_edge_colour, marker_face_colour, render_numbering, numbers_font_name, numbers_font_size, numbers_font_style, numbers_font_weight, numbers_font_colour, numbers_horizontal_align, numbers_vertical_align, legend_n_columns, legend_border_axes_pad, legend_rounded_corners, legend_title, legend_horizontal_spacing, legend_shadow, legend_location, legend_font_name, legend_bbox_to_anchor, legend_border, legend_marker_scale, legend_vertical_spacing, legend_font_weight, legend_font_size, render_legend, legend_font_style, legend_border_padding, figure_size, render_axes, axes_font_name, axes_font_size, axes_font_style, axes_font_weight, axes_x_limits, axes_y_limits, axes_x_ticks, axes_y_ticks, interpolation, alpha, cmap_name)\u001b[0m\n\u001b[0;32m    933\u001b[0m \u001b[1;33m\u001b[0m\u001b[0m\n\u001b[0;32m    934\u001b[0m     \u001b[1;31m# show plot\u001b[0m\u001b[1;33m\u001b[0m\u001b[1;33m\u001b[0m\u001b[0m\n\u001b[1;32m--> 935\u001b[1;33m     \u001b[0mplt\u001b[0m\u001b[1;33m.\u001b[0m\u001b[0mshow\u001b[0m\u001b[1;33m(\u001b[0m\u001b[1;33m)\u001b[0m\u001b[1;33m\u001b[0m\u001b[0m\n\u001b[0m\u001b[0;32m    936\u001b[0m \u001b[1;33m\u001b[0m\u001b[0m\n\u001b[0;32m    937\u001b[0m     \u001b[1;32mreturn\u001b[0m \u001b[0mrenderer\u001b[0m\u001b[1;33m\u001b[0m\u001b[0m\n",
      "\u001b[1;32mC:\\Users\\MIRA 3\\Anaconda3\\envs\\pain_detection\\lib\\site-packages\\matplotlib\\pyplot.pyc\u001b[0m in \u001b[0;36mshow\u001b[1;34m(*args, **kw)\u001b[0m\n\u001b[0;32m    250\u001b[0m     \"\"\"\n\u001b[0;32m    251\u001b[0m     \u001b[1;32mglobal\u001b[0m \u001b[0m_show\u001b[0m\u001b[1;33m\u001b[0m\u001b[0m\n\u001b[1;32m--> 252\u001b[1;33m     \u001b[1;32mreturn\u001b[0m \u001b[0m_show\u001b[0m\u001b[1;33m(\u001b[0m\u001b[1;33m*\u001b[0m\u001b[0margs\u001b[0m\u001b[1;33m,\u001b[0m \u001b[1;33m**\u001b[0m\u001b[0mkw\u001b[0m\u001b[1;33m)\u001b[0m\u001b[1;33m\u001b[0m\u001b[0m\n\u001b[0m\u001b[0;32m    253\u001b[0m \u001b[1;33m\u001b[0m\u001b[0m\n\u001b[0;32m    254\u001b[0m \u001b[1;33m\u001b[0m\u001b[0m\n",
      "\u001b[1;32mC:\\Users\\MIRA 3\\Anaconda3\\envs\\pain_detection\\lib\\site-packages\\ipykernel\\pylab\\backend_inline.pyc\u001b[0m in \u001b[0;36mshow\u001b[1;34m(close, block)\u001b[0m\n\u001b[0;32m     37\u001b[0m             display(\n\u001b[0;32m     38\u001b[0m                 \u001b[0mfigure_manager\u001b[0m\u001b[1;33m.\u001b[0m\u001b[0mcanvas\u001b[0m\u001b[1;33m.\u001b[0m\u001b[0mfigure\u001b[0m\u001b[1;33m,\u001b[0m\u001b[1;33m\u001b[0m\u001b[0m\n\u001b[1;32m---> 39\u001b[1;33m                 \u001b[0mmetadata\u001b[0m\u001b[1;33m=\u001b[0m\u001b[0m_fetch_figure_metadata\u001b[0m\u001b[1;33m(\u001b[0m\u001b[0mfigure_manager\u001b[0m\u001b[1;33m.\u001b[0m\u001b[0mcanvas\u001b[0m\u001b[1;33m.\u001b[0m\u001b[0mfigure\u001b[0m\u001b[1;33m)\u001b[0m\u001b[1;33m\u001b[0m\u001b[0m\n\u001b[0m\u001b[0;32m     40\u001b[0m             )\n\u001b[0;32m     41\u001b[0m     \u001b[1;32mfinally\u001b[0m\u001b[1;33m:\u001b[0m\u001b[1;33m\u001b[0m\u001b[0m\n",
      "\u001b[1;32mC:\\Users\\MIRA 3\\Anaconda3\\envs\\pain_detection\\lib\\site-packages\\ipykernel\\pylab\\backend_inline.pyc\u001b[0m in \u001b[0;36m_fetch_figure_metadata\u001b[1;34m(fig)\u001b[0m\n\u001b[0;32m    172\u001b[0m     \u001b[1;34m\"\"\"Get some metadata to help with displaying a figure.\"\"\"\u001b[0m\u001b[1;33m\u001b[0m\u001b[0m\n\u001b[0;32m    173\u001b[0m     \u001b[1;31m# determine if a background is needed for legibility\u001b[0m\u001b[1;33m\u001b[0m\u001b[1;33m\u001b[0m\u001b[0m\n\u001b[1;32m--> 174\u001b[1;33m     \u001b[1;32mif\u001b[0m \u001b[0m_is_transparent\u001b[0m\u001b[1;33m(\u001b[0m\u001b[0mfig\u001b[0m\u001b[1;33m.\u001b[0m\u001b[0mget_facecolor\u001b[0m\u001b[1;33m(\u001b[0m\u001b[1;33m)\u001b[0m\u001b[1;33m)\u001b[0m\u001b[1;33m:\u001b[0m\u001b[1;33m\u001b[0m\u001b[0m\n\u001b[0m\u001b[0;32m    175\u001b[0m         \u001b[1;31m# the background is transparent\u001b[0m\u001b[1;33m\u001b[0m\u001b[1;33m\u001b[0m\u001b[0m\n\u001b[0;32m    176\u001b[0m         ticksLight = _is_light([label.get_color()\n",
      "\u001b[1;32mC:\\Users\\MIRA 3\\Anaconda3\\envs\\pain_detection\\lib\\site-packages\\ipykernel\\pylab\\backend_inline.pyc\u001b[0m in \u001b[0;36m_is_transparent\u001b[1;34m(color)\u001b[0m\n\u001b[0;32m    193\u001b[0m \u001b[1;32mdef\u001b[0m \u001b[0m_is_transparent\u001b[0m\u001b[1;33m(\u001b[0m\u001b[0mcolor\u001b[0m\u001b[1;33m)\u001b[0m\u001b[1;33m:\u001b[0m\u001b[1;33m\u001b[0m\u001b[0m\n\u001b[0;32m    194\u001b[0m     \u001b[1;34m\"\"\"Determine transparency from alpha.\"\"\"\u001b[0m\u001b[1;33m\u001b[0m\u001b[0m\n\u001b[1;32m--> 195\u001b[1;33m     \u001b[0mrgba\u001b[0m \u001b[1;33m=\u001b[0m \u001b[0mcolors\u001b[0m\u001b[1;33m.\u001b[0m\u001b[0mto_rgba\u001b[0m\u001b[1;33m(\u001b[0m\u001b[0mcolor\u001b[0m\u001b[1;33m)\u001b[0m\u001b[1;33m\u001b[0m\u001b[0m\n\u001b[0m\u001b[0;32m    196\u001b[0m     \u001b[1;32mreturn\u001b[0m \u001b[0mrgba\u001b[0m\u001b[1;33m[\u001b[0m\u001b[1;36m3\u001b[0m\u001b[1;33m]\u001b[0m \u001b[1;33m<\u001b[0m \u001b[1;36m.5\u001b[0m\u001b[1;33m\u001b[0m\u001b[0m\n",
      "\u001b[1;31mAttributeError\u001b[0m: 'module' object has no attribute 'to_rgba'"
     ]
    }
   ],
   "source": [
    "image.view_widget()"
   ]
  },
  {
   "cell_type": "code",
   "execution_count": null,
   "metadata": {},
   "outputs": [],
   "source": []
  }
 ],
 "metadata": {
  "kernelspec": {
   "display_name": "Pain Detection",
   "language": "python",
   "name": "pain_detection"
  },
  "language_info": {
   "codemirror_mode": {
    "name": "ipython",
    "version": 2
   },
   "file_extension": ".py",
   "mimetype": "text/x-python",
   "name": "python",
   "nbconvert_exporter": "python",
   "pygments_lexer": "ipython2",
   "version": "2.7.15"
  }
 },
 "nbformat": 4,
 "nbformat_minor": 2
}
